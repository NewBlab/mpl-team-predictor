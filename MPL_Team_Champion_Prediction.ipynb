{
 "cells": [
  {
   "cell_type": "markdown",
   "id": "c7da8e3b",
   "metadata": {},
   "source": [
    "# 4. Model Building and Evaluation (Team-Level)"
   ]
  },
  {
   "cell_type": "code",
   "execution_count": null,
   "id": "5bcc9220",
   "metadata": {},
   "outputs": [],
   "source": [
    "# Model training\n",
    "import pandas as pd\n",
    "from sklearn.ensemble import RandomForestClassifier\n",
    "from sklearn.model_selection import train_test_split\n",
    "import joblib\n",
    "df = pd.read_excel('MPL_DATA_SEASON15.xlsx')\n",
    "team_df = df[df['Team'].notna()].copy()\n",
    "team_df['is_champion'] = (team_df['Rank'] <= 2).astype(int)\n",
    "features = ['Match point', 'Net Game Win', 'Kills', 'Deaths', 'Assists', 'Gold', 'Damage', 'Lord Kills', 'Tortoise Kills', 'Tower Destroy']\n",
    "X = team_df[features]\n",
    "y = team_df['is_champion']\n",
    "X_train, X_test, y_train, y_test = train_test_split(X, y, test_size=0.3, random_state=42)\n",
    "model = RandomForestClassifier(n_estimators=100, random_state=42)\n",
    "model.fit(X_train, y_train)\n",
    "joblib.dump(model, 'team_model.pkl')"
   ]
  },
  {
   "cell_type": "code",
   "execution_count": null,
   "id": "aaec444d",
   "metadata": {},
   "outputs": [],
   "source": [
    "# Evaluation\n",
    "from sklearn.metrics import classification_report\n",
    "y_pred = model.predict(X_test)\n",
    "print(classification_report(y_test, y_pred))"
   ]
  },
  {
   "cell_type": "markdown",
   "id": "5178fedb",
   "metadata": {},
   "source": [
    "![Feature Importance](feature_importance_chart.png)"
   ]
  },
  {
   "cell_type": "markdown",
   "id": "a17c636d",
   "metadata": {},
   "source": [
    "![Confusion Matrix](confusion_matrix_chart.png)"
   ]
  },
  {
   "cell_type": "markdown",
   "id": "54abbe10",
   "metadata": {},
   "source": [
    "# 5. Model Deployment (Prototype)\n",
    "- A Streamlit interface is provided in `app.py`\n",
    "- You can deploy it using Streamlit Cloud or run locally via `streamlit run app.py`.\n"
   ]
  },
  {
   "cell_type": "code",
   "execution_count": null,
   "id": "7294552f",
   "metadata": {},
   "outputs": [],
   "source": [
    "# Streamlit Code Snippet\n",
    "import streamlit as st\n",
    "import pandas as pd\n",
    "import numpy as np\n",
    "import joblib\n",
    "\n",
    "model = joblib.load(\"team_model.pkl\")\n",
    "\n",
    "st.title(\"🏆 MPL Team Champion Predictor\")\n",
    "st.write(\"Input team stats below to estimate if the team could win MPL S15\")\n",
    "\n",
    "inputs = {\n",
    "    'Match point': st.number_input(\"Match Point\", 0, 50, 20),\n",
    "    'Net Game Win': st.number_input(\"Net Game Win\", -10, 20, 5),\n",
    "    'Kills': st.number_input(\"Kills\", 0, 1000, 300),\n",
    "    'Deaths': st.number_input(\"Deaths\", 0, 1000, 250),\n",
    "    'Assists': st.number_input(\"Assists\", 0, 2000, 600),\n",
    "    'Gold': st.number_input(\"Gold\", 0, 1000000, 500000),\n",
    "    'Damage': st.number_input(\"Damage\", 0, 1000000, 450000),\n",
    "    'Lord Kills': st.number_input(\"Lord Kills\", 0, 20, 5),\n",
    "    'Tortoise Kills': st.number_input(\"Tortoise Kills\", 0, 30, 10),\n",
    "    'Tower Destroy': st.number_input(\"Tower Destroy\", 0, 50, 20),\n",
    "}\n",
    "\n",
    "input_df = pd.DataFrame([inputs])\n",
    "prediction = model.predict(input_df)[0]\n",
    "prob = model.predict_proba(input_df)[0][1]\n",
    "\n",
    "st.markdown(f\"### 🔮 Prediction: {'🏆 Likely Champion' if prediction == 1 else '❌ Unlikely to Win'}\")\n",
    "st.markdown(f\"Confidence: **{prob*100:.2f}%**\")\n"
   ]
  }
 ],
 "metadata": {},
 "nbformat": 4,
 "nbformat_minor": 5
}
